{
  "nbformat": 4,
  "nbformat_minor": 0,
  "metadata": {
    "colab": {
      "provenance": [],
      "authorship_tag": "ABX9TyOQdYNowUnNHHtze7kPp2zZ",
      "include_colab_link": true
    },
    "kernelspec": {
      "name": "python3",
      "display_name": "Python 3"
    },
    "language_info": {
      "name": "python"
    }
  },
  "cells": [
    {
      "cell_type": "markdown",
      "metadata": {
        "id": "view-in-github",
        "colab_type": "text"
      },
      "source": [
        "<a href=\"https://colab.research.google.com/github/PhamAnhKiet20146220/AI-T7-tiet_1234/blob/main/IRIS_CSV.ipynb\" target=\"_parent\"><img src=\"https://colab.research.google.com/assets/colab-badge.svg\" alt=\"Open In Colab\"/></a>"
      ]
    },
    {
      "cell_type": "code",
      "execution_count": 1,
      "metadata": {
        "id": "C60b9_YnHUB1"
      },
      "outputs": [],
      "source": [
        "import pandas as pd\n",
        "url = '/iris.csv'\n",
        "data = pd.read_csv(url)"
      ]
    },
    {
      "cell_type": "code",
      "source": [
        "data.head()"
      ],
      "metadata": {
        "colab": {
          "base_uri": "https://localhost:8080/",
          "height": 206
        },
        "id": "WJKLi0JbJz2q",
        "outputId": "d378706f-8b74-4773-d5a4-bf062a8bab6e"
      },
      "execution_count": 2,
      "outputs": [
        {
          "output_type": "execute_result",
          "data": {
            "text/plain": [
              "   sepal.length  sepal.width  petal.length  petal.width variety\n",
              "0           5.1          3.5           1.4          0.2  Setosa\n",
              "1           4.9          3.0           1.4          0.2  Setosa\n",
              "2           4.7          3.2           1.3          0.2  Setosa\n",
              "3           4.6          3.1           1.5          0.2  Setosa\n",
              "4           5.0          3.6           1.4          0.2  Setosa"
            ],
            "text/html": [
              "\n",
              "  <div id=\"df-f9501eac-79fb-4a72-bd3d-2e15407ce7a8\">\n",
              "    <div class=\"colab-df-container\">\n",
              "      <div>\n",
              "<style scoped>\n",
              "    .dataframe tbody tr th:only-of-type {\n",
              "        vertical-align: middle;\n",
              "    }\n",
              "\n",
              "    .dataframe tbody tr th {\n",
              "        vertical-align: top;\n",
              "    }\n",
              "\n",
              "    .dataframe thead th {\n",
              "        text-align: right;\n",
              "    }\n",
              "</style>\n",
              "<table border=\"1\" class=\"dataframe\">\n",
              "  <thead>\n",
              "    <tr style=\"text-align: right;\">\n",
              "      <th></th>\n",
              "      <th>sepal.length</th>\n",
              "      <th>sepal.width</th>\n",
              "      <th>petal.length</th>\n",
              "      <th>petal.width</th>\n",
              "      <th>variety</th>\n",
              "    </tr>\n",
              "  </thead>\n",
              "  <tbody>\n",
              "    <tr>\n",
              "      <th>0</th>\n",
              "      <td>5.1</td>\n",
              "      <td>3.5</td>\n",
              "      <td>1.4</td>\n",
              "      <td>0.2</td>\n",
              "      <td>Setosa</td>\n",
              "    </tr>\n",
              "    <tr>\n",
              "      <th>1</th>\n",
              "      <td>4.9</td>\n",
              "      <td>3.0</td>\n",
              "      <td>1.4</td>\n",
              "      <td>0.2</td>\n",
              "      <td>Setosa</td>\n",
              "    </tr>\n",
              "    <tr>\n",
              "      <th>2</th>\n",
              "      <td>4.7</td>\n",
              "      <td>3.2</td>\n",
              "      <td>1.3</td>\n",
              "      <td>0.2</td>\n",
              "      <td>Setosa</td>\n",
              "    </tr>\n",
              "    <tr>\n",
              "      <th>3</th>\n",
              "      <td>4.6</td>\n",
              "      <td>3.1</td>\n",
              "      <td>1.5</td>\n",
              "      <td>0.2</td>\n",
              "      <td>Setosa</td>\n",
              "    </tr>\n",
              "    <tr>\n",
              "      <th>4</th>\n",
              "      <td>5.0</td>\n",
              "      <td>3.6</td>\n",
              "      <td>1.4</td>\n",
              "      <td>0.2</td>\n",
              "      <td>Setosa</td>\n",
              "    </tr>\n",
              "  </tbody>\n",
              "</table>\n",
              "</div>\n",
              "      <button class=\"colab-df-convert\" onclick=\"convertToInteractive('df-f9501eac-79fb-4a72-bd3d-2e15407ce7a8')\"\n",
              "              title=\"Convert this dataframe to an interactive table.\"\n",
              "              style=\"display:none;\">\n",
              "        \n",
              "  <svg xmlns=\"http://www.w3.org/2000/svg\" height=\"24px\"viewBox=\"0 0 24 24\"\n",
              "       width=\"24px\">\n",
              "    <path d=\"M0 0h24v24H0V0z\" fill=\"none\"/>\n",
              "    <path d=\"M18.56 5.44l.94 2.06.94-2.06 2.06-.94-2.06-.94-.94-2.06-.94 2.06-2.06.94zm-11 1L8.5 8.5l.94-2.06 2.06-.94-2.06-.94L8.5 2.5l-.94 2.06-2.06.94zm10 10l.94 2.06.94-2.06 2.06-.94-2.06-.94-.94-2.06-.94 2.06-2.06.94z\"/><path d=\"M17.41 7.96l-1.37-1.37c-.4-.4-.92-.59-1.43-.59-.52 0-1.04.2-1.43.59L10.3 9.45l-7.72 7.72c-.78.78-.78 2.05 0 2.83L4 21.41c.39.39.9.59 1.41.59.51 0 1.02-.2 1.41-.59l7.78-7.78 2.81-2.81c.8-.78.8-2.07 0-2.86zM5.41 20L4 18.59l7.72-7.72 1.47 1.35L5.41 20z\"/>\n",
              "  </svg>\n",
              "      </button>\n",
              "      \n",
              "  <style>\n",
              "    .colab-df-container {\n",
              "      display:flex;\n",
              "      flex-wrap:wrap;\n",
              "      gap: 12px;\n",
              "    }\n",
              "\n",
              "    .colab-df-convert {\n",
              "      background-color: #E8F0FE;\n",
              "      border: none;\n",
              "      border-radius: 50%;\n",
              "      cursor: pointer;\n",
              "      display: none;\n",
              "      fill: #1967D2;\n",
              "      height: 32px;\n",
              "      padding: 0 0 0 0;\n",
              "      width: 32px;\n",
              "    }\n",
              "\n",
              "    .colab-df-convert:hover {\n",
              "      background-color: #E2EBFA;\n",
              "      box-shadow: 0px 1px 2px rgba(60, 64, 67, 0.3), 0px 1px 3px 1px rgba(60, 64, 67, 0.15);\n",
              "      fill: #174EA6;\n",
              "    }\n",
              "\n",
              "    [theme=dark] .colab-df-convert {\n",
              "      background-color: #3B4455;\n",
              "      fill: #D2E3FC;\n",
              "    }\n",
              "\n",
              "    [theme=dark] .colab-df-convert:hover {\n",
              "      background-color: #434B5C;\n",
              "      box-shadow: 0px 1px 3px 1px rgba(0, 0, 0, 0.15);\n",
              "      filter: drop-shadow(0px 1px 2px rgba(0, 0, 0, 0.3));\n",
              "      fill: #FFFFFF;\n",
              "    }\n",
              "  </style>\n",
              "\n",
              "      <script>\n",
              "        const buttonEl =\n",
              "          document.querySelector('#df-f9501eac-79fb-4a72-bd3d-2e15407ce7a8 button.colab-df-convert');\n",
              "        buttonEl.style.display =\n",
              "          google.colab.kernel.accessAllowed ? 'block' : 'none';\n",
              "\n",
              "        async function convertToInteractive(key) {\n",
              "          const element = document.querySelector('#df-f9501eac-79fb-4a72-bd3d-2e15407ce7a8');\n",
              "          const dataTable =\n",
              "            await google.colab.kernel.invokeFunction('convertToInteractive',\n",
              "                                                     [key], {});\n",
              "          if (!dataTable) return;\n",
              "\n",
              "          const docLinkHtml = 'Like what you see? Visit the ' +\n",
              "            '<a target=\"_blank\" href=https://colab.research.google.com/notebooks/data_table.ipynb>data table notebook</a>'\n",
              "            + ' to learn more about interactive tables.';\n",
              "          element.innerHTML = '';\n",
              "          dataTable['output_type'] = 'display_data';\n",
              "          await google.colab.output.renderOutput(dataTable, element);\n",
              "          const docLink = document.createElement('div');\n",
              "          docLink.innerHTML = docLinkHtml;\n",
              "          element.appendChild(docLink);\n",
              "        }\n",
              "      </script>\n",
              "    </div>\n",
              "  </div>\n",
              "  "
            ]
          },
          "metadata": {},
          "execution_count": 2
        }
      ]
    },
    {
      "cell_type": "code",
      "source": [
        "import matplotlib.pyplot as plt\n",
        "data.hist()\n",
        "plt.show()"
      ],
      "metadata": {
        "colab": {
          "base_uri": "https://localhost:8080/",
          "height": 281
        },
        "id": "l1KV2dZqJ7J9",
        "outputId": "fb0869ff-a391-4d68-fe90-001a1e6be014"
      },
      "execution_count": 3,
      "outputs": [
        {
          "output_type": "display_data",
          "data": {
            "text/plain": [
              "<Figure size 432x288 with 4 Axes>"
            ],
            "image/png": "[encoded data removed]"
          },
          "metadata": {
            "needs_background": "light"
          }
        }
      ]
    },
    {
      "cell_type": "code",
      "source": [
        "correlation=data.corr()\n",
        "print(correlation)"
      ],
      "metadata": {
        "colab": {
          "base_uri": "https://localhost:8080/"
        },
        "id": "RnNXTr-gKZge",
        "outputId": "b9880a13-2d6a-4b99-9f36-06e021920112"
      },
      "execution_count": 4,
      "outputs": [
        {
          "output_type": "stream",
          "name": "stdout",
          "text": [
            "              sepal.length  sepal.width  petal.length  petal.width\n",
            "sepal.length      1.000000    -0.117570      0.871754     0.817941\n",
            "sepal.width      -0.117570     1.000000     -0.428440    -0.366126\n",
            "petal.length      0.871754    -0.428440      1.000000     0.962865\n",
            "petal.width       0.817941    -0.366126      0.962865     1.000000\n"
          ]
        }
      ]
    },
    {
      "cell_type": "code",
      "source": [
        "import seaborn as sns\n",
        "sns.heatmap(correlation,annot= True)"
      ],
      "metadata": {
        "colab": {
          "base_uri": "https://localhost:8080/",
          "height": 287
        },
        "id": "O_UwSvxTKa3J",
        "outputId": "acf7785c-a197-4550-9d92-db4ea0adcb1b"
      },
      "execution_count": 5,
      "outputs": [
        {
          "output_type": "execute_result",
          "data": {
            "text/plain": [
              "<Axes: >"
            ]
          },
          "metadata": {},
          "execution_count": 5
        },
        {
          "output_type": "display_data",
          "data": {
            "text/plain": [
              "<Figure size 432x288 with 2 Axes>"
            ],
            "image/png": "[encoded data removed]"
          },
          "metadata": {
            "needs_background": "light"
          }
        }
      ]
    },
    {
      "cell_type": "code",
      "source": [
        "sns.pairplot(data)"
      ],
      "metadata": {
        "colab": {
          "base_uri": "https://localhost:8080/",
          "height": 744
        },
        "id": "DONN8DVQKcc1",
        "outputId": "04b8e513-aefe-4e64-fb95-25f8345155da"
      },
      "execution_count": 6,
      "outputs": [
        {
          "output_type": "execute_result",
          "data": {
            "text/plain": [
              "<seaborn.axisgrid.PairGrid at 0x7f54f41b5d00>"
            ]
          },
          "metadata": {},
          "execution_count": 6
        },
        {
          "output_type": "display_data",
          "data": {
            "text/plain": [
              "<Figure size 720x720 with 20 Axes>"
            ],
            "image/png": "[encoded data removed]"
          },
          "metadata": {
            "needs_background": "light"
          }
        }
      ]
    },
    {
      "cell_type": "code",
      "source": [
        "from sklearn import linear_model\n",
        "model = linear_model.LinearRegression()\n",
        "model.fit(X=pd.DataFrame(data['petal.length']), y = data['petal.width'])\n",
        "print('He so intercept la:',model.intercept_)\n",
        "print('He so coeffient la:',model.coef_)"
      ],
      "metadata": {
        "colab": {
          "base_uri": "https://localhost:8080/"
        },
        "id": "CoY3hKinKttq",
        "outputId": "fa85cc46-d1b9-46d3-81b1-846438543a9a"
      },
      "execution_count": 7,
      "outputs": [
        {
          "output_type": "stream",
          "name": "stdout",
          "text": [
            "He so intercept la: -0.3630755213190291\n",
            "He so coeffient la: [0.41575542]\n"
          ]
        }
      ]
    },
    {
      "cell_type": "code",
      "source": [
        "model.score(X=pd.DataFrame(data['petal.length']), y = data['petal.width'])"
      ],
      "metadata": {
        "colab": {
          "base_uri": "https://localhost:8080/"
        },
        "id": "NWM0q5SFK-iH",
        "outputId": "aa541d47-cce1-43b7-f7f8-9a113ba3fa9d"
      },
      "execution_count": 8,
      "outputs": [
        {
          "output_type": "execute_result",
          "data": {
            "text/plain": [
              "0.9271098389904927"
            ]
          },
          "metadata": {},
          "execution_count": 8
        }
      ]
    },
    {
      "cell_type": "code",
      "source": [
        "y_pred = model.predict(X=pd.DataFrame(data['petal.length']))"
      ],
      "metadata": {
        "id": "n5ftIpKULHjj"
      },
      "execution_count": 9,
      "outputs": []
    },
    {
      "cell_type": "code",
      "source": [
        "data.plot(kind='scatter',x='petal.length', y = 'petal.width' , figsize=(9,9),\n",
        "          color= 'black')\n",
        "plt.plot(data['petal.length'],y_pred,color='blue')"
      ],
      "metadata": {
        "colab": {
          "base_uri": "https://localhost:8080/",
          "height": 626
        },
        "id": "dzoePvy_LK9o",
        "outputId": "aaa6d9d9-03eb-47d7-e4cd-4a9998d20e48"
      },
      "execution_count": 10,
      "outputs": [
        {
          "output_type": "stream",
          "name": "stderr",
          "text": [
            "/usr/local/lib/python3.9/dist-packages/pandas/plotting/_matplotlib/core.py:1114: UserWarning: No data for colormapping provided via 'c'. Parameters 'cmap' will be ignored\n",
            "  scatter = ax.scatter(\n"
          ]
        },
        {
          "output_type": "execute_result",
          "data": {
            "text/plain": [
              "[<matplotlib.lines.Line2D at 0x7f54e9f5e100>]"
            ]
          },
          "metadata": {},
          "execution_count": 10
        },
        {
          "output_type": "display_data",
          "data": {
            "text/plain": [
              "<Figure size 648x648 with 1 Axes>"
            ],
            "image/png": "[encoded data removed]"
          },
          "metadata": {
            "needs_background": "light"
          }
        }
      ]
    },
    {
      "cell_type": "code",
      "source": [
        "model = linear_model.LinearRegression()\n",
        "X= pd.DataFrame([data['petal.length'],data['petal.length']**2]).T\n",
        "y=data['petal.width']\n",
        "model.fit(X,y)\n",
        "print('Intercept cua mo hinh :',model.intercept_)\n",
        "print('Coeffient cua mo hinh:',model.coef_)\n",
        "print('Do chinh xac cua mo hinh:',model.score(X,y))"
      ],
      "metadata": {
        "colab": {
          "base_uri": "https://localhost:8080/"
        },
        "id": "hEWQq14JLSq6",
        "outputId": "159746c2-ad4f-40c1-a571-ae765323fd26"
      },
      "execution_count": 11,
      "outputs": [
        {
          "output_type": "stream",
          "name": "stdout",
          "text": [
            "Intercept cua mo hinh : -0.38678103123565544\n",
            "Coeffient cua mo hinh: [ 0.43383349 -0.00256892]\n",
            "Do chinh xac cua mo hinh: 0.9271679557444837\n"
          ]
        }
      ]
    },
    {
      "cell_type": "code",
      "source": [
        "import numpy as np\n",
        "range=np.arange(0.5,7.5,0.1)\n",
        "X_range=pd.DataFrame([range,range**2]).T\n",
        "y_pred=model.predict(X=X_range)\n",
        "data.plot(kind='scatter',x='petal.length', y = 'petal.width' , figsize=(9,9),\n",
        "          color= 'black')\n",
        "plt.plot(range, y_pred, color='blue')"
      ],
      "metadata": {
        "colab": {
          "base_uri": "https://localhost:8080/",
          "height": 662
        },
        "id": "2yry8woPLa3j",
        "outputId": "05487366-fe99-4fab-abd3-1868bb51fe16"
      },
      "execution_count": 13,
      "outputs": [
        {
          "output_type": "stream",
          "name": "stderr",
          "text": [
            "/usr/local/lib/python3.9/dist-packages/sklearn/base.py:439: UserWarning: X does not have valid feature names, but LinearRegression was fitted with feature names\n",
            "  warnings.warn(\n",
            "/usr/local/lib/python3.9/dist-packages/pandas/plotting/_matplotlib/core.py:1114: UserWarning: No data for colormapping provided via 'c'. Parameters 'cmap' will be ignored\n",
            "  scatter = ax.scatter(\n"
          ]
        },
        {
          "output_type": "execute_result",
          "data": {
            "text/plain": [
              "[<matplotlib.lines.Line2D at 0x7f54e4ba7220>]"
            ]
          },
          "metadata": {},
          "execution_count": 13
        },
        {
          "output_type": "display_data",
          "data": {
            "text/plain": [
              "<Figure size 648x648 with 1 Axes>"
            ],
            "image/png": "[encoded data removed]"
          },
          "metadata": {
            "needs_background": "light"
          }
        }
      ]
    },
    {
      "cell_type": "code",
      "source": [
        "model = linear_model.LinearRegression()\n",
        "X= pd.DataFrame([data['petal.length'],data['petal.length']**2,data['petal.length']**3]).T\n",
        "y=data['petal.width']\n",
        "model.fit(X,y)\n",
        "print('Intercept cua mo hinh :',model.intercept_)\n",
        "print('Coeffient cua mo hinh:',model.coef_)\n",
        "print('Do chinh xac cua mo hinh:',model.score(X,y))"
      ],
      "metadata": {
        "colab": {
          "base_uri": "https://localhost:8080/"
        },
        "id": "CUVZS5tSLmn5",
        "outputId": "34adc843-3204-4eaf-c3bf-ca60c3bf277f"
      },
      "execution_count": 18,
      "outputs": [
        {
          "output_type": "stream",
          "name": "stdout",
          "text": [
            "Intercept cua mo hinh : 0.6280339907434991\n",
            "Coeffient cua mo hinh: [-0.66092067  0.30855328 -0.02610327]\n",
            "Do chinh xac cua mo hinh: 0.9354342802552505\n"
          ]
        }
      ]
    },
    {
      "cell_type": "code",
      "source": [
        "model = linear_model.LinearRegression()\n",
        "X= pd.DataFrame([data['petal.length'],data['petal.length']**2,data['petal.length']**3,data['petal.length']**4]).T\n",
        "y=data['petal.width']\n",
        "model.fit(X,y)\n",
        "print('Intercept cua mo hinh :',model.intercept_)\n",
        "print('Coeffient cua mo hinh:',model.coef_)\n",
        "print('Do chinh xac cua mo hinh:',model.score(X,y))"
      ],
      "metadata": {
        "colab": {
          "base_uri": "https://localhost:8080/"
        },
        "id": "npzGnmzCL0YQ",
        "outputId": "0cebec00-6b34-4b96-97e6-a5c00ce38ac4"
      },
      "execution_count": 19,
      "outputs": [
        {
          "output_type": "stream",
          "name": "stdout",
          "text": [
            "Intercept cua mo hinh : -0.4615886807160079\n",
            "Coeffient cua mo hinh: [ 0.82110549 -0.34324572  0.08944371 -0.00714685]\n",
            "Do chinh xac cua mo hinh: 0.9373432006856651\n"
          ]
        }
      ]
    },
    {
      "cell_type": "code",
      "source": [
        "model = linear_model.LinearRegression()\n",
        "X= pd.DataFrame([data['petal.length'],data['petal.length']**2,data['petal.length']**3,data['petal.length']**4,data['petal.length']**5]).T\n",
        "y=data['petal.width']\n",
        "model.fit(X,y)\n",
        "print('Intercept cua mo hinh :',model.intercept_)\n",
        "print('Coeffient cua mo hinh:',model.coef_)\n",
        "print('Do chinh xac cua mo hinh:',model.score(X,y))"
      ],
      "metadata": {
        "colab": {
          "base_uri": "https://localhost:8080/"
        },
        "id": "dgnXoWoJL9vn",
        "outputId": "f8a0ef11-e031-427f-c21d-753c8f956787"
      },
      "execution_count": 20,
      "outputs": [
        {
          "output_type": "stream",
          "name": "stdout",
          "text": [
            "Intercept cua mo hinh : -0.055846747161793164\n",
            "Coeffient cua mo hinh: [ 0.08085625  0.14465851 -0.05561061  0.01267057 -0.00101198]\n",
            "Do chinh xac cua mo hinh: 0.9374307085252185\n"
          ]
        }
      ]
    },
    {
      "cell_type": "code",
      "source": [
        "model = linear_model.LinearRegression()\n",
        "X= pd.DataFrame([data['petal.length'],data['petal.length']**2,data['petal.length']**3,data['petal.length']**4,data['petal.length']**5,\n",
        "                 data['petal.length']**6]).T\n",
        "y=data['petal.width']\n",
        "model.fit(X,y)\n",
        "print('Intercept cua mo hinh :',model.intercept_)\n",
        "print('Coeffient cua mo hinh:',model.coef_)\n",
        "print('Do chinh xac cua mo hinh:',model.score(X,y))"
      ],
      "metadata": {
        "colab": {
          "base_uri": "https://localhost:8080/"
        },
        "id": "JN496kGFMB0f",
        "outputId": "ca4ad862-ba6b-4bc0-fc95-d1b2cdfb510b"
      },
      "execution_count": 21,
      "outputs": [
        {
          "output_type": "stream",
          "name": "stdout",
          "text": [
            "Intercept cua mo hinh : 7.654732792574\n",
            "Coeffient cua mo hinh: [-1.72137097e+01  1.48190116e+01 -6.07941096e+00  1.29571213e+00\n",
            " -1.37520003e-01  5.73416986e-03]\n",
            "Do chinh xac cua mo hinh: 0.9419050555865199\n"
          ]
        }
      ]
    },
    {
      "cell_type": "code",
      "source": [
        "model = linear_model.LinearRegression()\n",
        "X= pd.DataFrame([data['petal.length'],data['petal.length']**2,data['petal.length']**3,data['petal.length']**4,data['petal.length']**5,\n",
        "                 data['petal.length']**6,data['petal.length']**7]).T\n",
        "y=data['petal.width']\n",
        "model.fit(X,y)\n",
        "print('Intercept cua mo hinh :',model.intercept_)\n",
        "print('Coeffient cua mo hinh:',model.coef_)\n",
        "print('Do chinh xac cua mo hinh:',model.score(X,y))"
      ],
      "metadata": {
        "colab": {
          "base_uri": "https://localhost:8080/"
        },
        "id": "j0JMxMBhMIDl",
        "outputId": "28b90b4d-c1d0-45d2-aec8-29e9b11d547b"
      },
      "execution_count": 22,
      "outputs": [
        {
          "output_type": "stream",
          "name": "stdout",
          "text": [
            "Intercept cua mo hinh : -1.922493382168506\n",
            "Coeffient cua mo hinh: [ 7.49328499e+00 -1.03385283e+01  7.06515541e+00 -2.55033179e+00\n",
            "  4.99225010e-01 -4.99769766e-02  2.00111146e-03]\n",
            "Do chinh xac cua mo hinh: 0.9434481417366539\n"
          ]
        }
      ]
    },
    {
      "cell_type": "code",
      "source": [
        "model = linear_model.LinearRegression()\n",
        "X= pd.DataFrame([data['petal.length'],data['petal.length']**2,data['petal.length']**3,data['petal.length']**4,data['petal.length']**5,\n",
        "                 data['petal.length']**6,data['petal.length']**7,data['petal.length']**8]).T\n",
        "y=data['petal.width']\n",
        "model.fit(X,y)\n",
        "print('Intercept cua mo hinh :',model.intercept_)\n",
        "print('Coeffient cua mo hinh:',model.coef_)\n",
        "print('Do chinh xac cua mo hinh:',model.score(X,y))"
      ],
      "metadata": {
        "colab": {
          "base_uri": "https://localhost:8080/"
        },
        "id": "gJnwqFL8MMwf",
        "outputId": "fb235b99-3655-41a6-f8c9-f477404da6ec"
      },
      "execution_count": 24,
      "outputs": [
        {
          "output_type": "stream",
          "name": "stdout",
          "text": [
            "Intercept cua mo hinh : -10.33377666655698\n",
            "Coeffient cua mo hinh: [ 3.29331762e+01 -4.17428093e+01  2.77469013e+01 -1.05292845e+01\n",
            "  2.35770317e+00 -3.06959483e-01  2.14105143e-02 -6.16429639e-04]\n",
            "Do chinh xac cua mo hinh: 0.9438145158297775\n"
          ]
        }
      ]
    },
    {
      "cell_type": "code",
      "source": [
        "model = linear_model.LinearRegression()\n",
        "X= pd.DataFrame([data['petal.length'],data['petal.length']**2,data['petal.length']**3,data['petal.length']**4,data['petal.length']**5,\n",
        "                 data['petal.length']**6,data['petal.length']**7,data['petal.length']**8,data['petal.length']**9]).T\n",
        "y=data['petal.width']\n",
        "model.fit(X,y)\n",
        "print('Intercept cua mo hinh :',model.intercept_)\n",
        "print('Coeffient cua mo hinh:',model.coef_)\n",
        "print('Do chinh xac cua mo hinh:',model.score(X,y))"
      ],
      "metadata": {
        "colab": {
          "base_uri": "https://localhost:8080/"
        },
        "id": "3TjPsintNEKW",
        "outputId": "51676c35-019d-42cf-f1b8-2277c99fff86"
      },
      "execution_count": 26,
      "outputs": [
        {
          "output_type": "stream",
          "name": "stdout",
          "text": [
            "Intercept cua mo hinh : 1.7921501757329903\n",
            "Coeffient cua mo hinh: [-8.71753649e+00  1.78315005e+01 -1.88431353e+01  1.14916647e+01\n",
            " -4.20175425e+00  9.31990509e-01 -1.22508660e-01  8.76115051e-03\n",
            " -2.62291737e-04]\n",
            "Do chinh xac cua mo hinh: 0.9439209149554998\n"
          ]
        }
      ]
    },
    {
      "cell_type": "code",
      "source": [
        "model = linear_model.LinearRegression()\n",
        "X= pd.DataFrame([data['petal.length'],data['petal.length']**2,data['petal.length']**3,data['petal.length']**4,data['petal.length']**5,\n",
        "                 data['petal.length']**6,data['petal.length']**7,data['petal.length']**8,data['petal.length']**9,data['petal.length']**10]).T\n",
        "y=data['petal.width']\n",
        "model.fit(X,y)\n",
        "print('Intercept cua mo hinh :',model.intercept_)\n",
        "print('Coeffient cua mo hinh:',model.coef_)\n",
        "print('Do chinh xac cua mo hinh:',model.score(X,y))"
      ],
      "metadata": {
        "colab": {
          "base_uri": "https://localhost:8080/"
        },
        "id": "vFRso13WNKd1",
        "outputId": "f805016e-ad51-47a3-93e6-6405eb156d64"
      },
      "execution_count": 27,
      "outputs": [
        {
          "output_type": "stream",
          "name": "stdout",
          "text": [
            "Intercept cua mo hinh : 13.972903235636158\n",
            "Coeffient cua mo hinh: [-5.45051510e+01  9.08777444e+01 -8.40527618e+01  4.76732024e+01\n",
            " -1.72959936e+01  4.07715470e+00 -6.19857074e-01  5.85179805e-02\n",
            " -3.11652149e-03  7.15165410e-05]\n",
            "Do chinh xac cua mo hinh: 0.9439408876539831\n"
          ]
        }
      ]
    },
    {
      "cell_type": "code",
      "source": [
        "model = linear_model.LinearRegression()\n",
        "X= pd.DataFrame([data['petal.length'],data['petal.length']**2,data['petal.length']**3,data['petal.length']**4,data['petal.length']**5,\n",
        "                 data['petal.length']**6,data['petal.length']**7,data['petal.length']**8,data['petal.length']**9,data['petal.length']**10,\n",
        "                 data['petal.length']**11]).T\n",
        "y=data['petal.width']\n",
        "model.fit(X,y)\n",
        "print('Intercept cua mo hinh :',model.intercept_)\n",
        "print('Coeffient cua mo hinh:',model.coef_)\n",
        "print('Do chinh xac cua mo hinh:',model.score(X,y))"
      ],
      "metadata": {
        "colab": {
          "base_uri": "https://localhost:8080/"
        },
        "id": "rxOUn4g4NP_G",
        "outputId": "5c5c925e-f597-4fa7-8c22-f98087502717"
      },
      "execution_count": 28,
      "outputs": [
        {
          "output_type": "stream",
          "name": "stdout",
          "text": [
            "Intercept cua mo hinh : -31.857118873675653\n",
            "Coeffient cua mo hinh: [ 1.37653991e+02 -2.57199231e+02  2.75712271e+02 -1.88426912e+02\n",
            "  8.62508876e+01 -2.69853692e+01  5.77511919e+00 -8.29889236e-01\n",
            "  7.64507680e-02 -4.07522474e-03  9.55196489e-05]\n",
            "Do chinh xac cua mo hinh: 0.9440179229522092\n"
          ]
        }
      ]
    },
    {
      "cell_type": "code",
      "source": [
        "model = linear_model.LinearRegression()\n",
        "X= pd.DataFrame([data['petal.length'],data['petal.length']**2,data['petal.length']**3,data['petal.length']**4,data['petal.length']**5,\n",
        "                 data['petal.length']**6,data['petal.length']**7,data['petal.length']**8,data['petal.length']**9,data['petal.length']**10,\n",
        "                 data['petal.length']**11,data['petal.length']**12]).T\n",
        "y=data['petal.width']\n",
        "model.fit(X,y)\n",
        "print('Intercept cua mo hinh :',model.intercept_)\n",
        "print('Coeffient cua mo hinh:',model.coef_)\n",
        "print('Do chinh xac cua mo hinh:',model.score(X,y))"
      ],
      "metadata": {
        "colab": {
          "base_uri": "https://localhost:8080/"
        },
        "id": "tdSJy9xSNU9k",
        "outputId": "64a9ea68-3339-45e5-fa55-5e5252a692fe"
      },
      "execution_count": 29,
      "outputs": [
        {
          "output_type": "stream",
          "name": "stdout",
          "text": [
            "Intercept cua mo hinh : 120.93068096604415\n",
            "Coeffient cua mo hinh: [-5.63877140e+02  1.15087341e+03 -1.35831371e+03  1.03392982e+03\n",
            " -5.35924731e+02  1.94540607e+02 -4.99811850e+01  9.04542652e+00\n",
            " -1.12738445e+00  9.20595050e-02 -4.43106546e-03  9.52501334e-05]\n",
            "Do chinh xac cua mo hinh: 0.9441275155085337\n"
          ]
        }
      ]
    },
    {
      "cell_type": "code",
      "source": [
        "model = linear_model.LinearRegression()\n",
        "X= pd.DataFrame([data['petal.length'],data['petal.length']**2,data['petal.length']**3,data['petal.length']**4,data['petal.length']**5,\n",
        "                 data['petal.length']**6,data['petal.length']**7,data['petal.length']**8,data['petal.length']**9,data['petal.length']**10,\n",
        "                 data['petal.length']**11,data['petal.length']**12,data['petal.length']**13]).T\n",
        "y=data['petal.width']\n",
        "model.fit(X,y)\n",
        "print('Intercept cua mo hinh :',model.intercept_)\n",
        "print('Coeffient cua mo hinh:',model.coef_)\n",
        "print('Do chinh xac cua mo hinh:',model.score(X,y))"
      ],
      "metadata": {
        "colab": {
          "base_uri": "https://localhost:8080/"
        },
        "id": "Gzcq7VCINbub",
        "outputId": "6a4e5d8b-c418-4d76-bf80-1e571638ac3b"
      },
      "execution_count": 31,
      "outputs": [
        {
          "output_type": "stream",
          "name": "stdout",
          "text": [
            "Intercept cua mo hinh : 5.564266218741386\n",
            "Coeffient cua mo hinh: [-2.20246793e+01  3.10694056e+01 -9.34736757e+00 -2.42598715e+01\n",
            "  3.60414885e+01 -2.51770011e+01  1.09243264e+01 -3.17150096e+00\n",
            "  6.28676133e-01 -8.41837082e-02  7.28992338e-03 -3.68605444e-04\n",
            "  8.26388671e-06]\n",
            "Do chinh xac cua mo hinh: 0.9440757505694598\n"
          ]
        }
      ]
    },
    {
      "cell_type": "code",
      "source": [
        "model = linear_model.LinearRegression()\n",
        "X= pd.DataFrame([data['petal.length'],data['petal.length']**2,data['petal.length']**3,data['petal.length']**4,data['petal.length']**5,\n",
        "                 data['petal.length']**6,data['petal.length']**7,data['petal.length']**8,data['petal.length']**9,data['petal.length']**10,\n",
        "                 data['petal.length']**11,data['petal.length']**12,data['petal.length']**13,data['petal.length']**14]).T\n",
        "y=data['petal.width']\n",
        "model.fit(X,y)\n",
        "print('Intercept cua mo hinh :',model.intercept_)\n",
        "print('Coeffient cua mo hinh:',model.coef_)\n",
        "print('Do chinh xac cua mo hinh:',model.score(X,y))"
      ],
      "metadata": {
        "colab": {
          "base_uri": "https://localhost:8080/"
        },
        "id": "HFYS4mbqNkbJ",
        "outputId": "ffc456a5-9390-482f-d648-d45f742fb17f"
      },
      "execution_count": 32,
      "outputs": [
        {
          "output_type": "stream",
          "name": "stdout",
          "text": [
            "Intercept cua mo hinh : -9.036947175209798\n",
            "Coeffient cua mo hinh: [ 2.14474183e+01 -9.03023769e+00 -1.42828566e+01  1.13283647e+01\n",
            "  9.05903437e+00 -1.78262025e+01  1.24537689e+01 -5.10965138e+00\n",
            "  1.37078754e+00 -2.48071701e-01  3.01157850e-02 -2.35505194e-03\n",
            "  1.07331368e-04 -2.16778308e-06]\n",
            "Do chinh xac cua mo hinh: 0.9440983263629082\n"
          ]
        }
      ]
    },
    {
      "cell_type": "code",
      "source": [
        "model = linear_model.LinearRegression()\n",
        "X= pd.DataFrame([data['petal.length'],data['petal.length']**2,data['petal.length']**3,data['petal.length']**4,data['petal.length']**5,\n",
        "                 data['petal.length']**6,data['petal.length']**7,data['petal.length']**8,data['petal.length']**9,data['petal.length']**10,\n",
        "                 data['petal.length']**11,data['petal.length']**12,data['petal.length']**13,data['petal.length']**14,data['petal.length']**15]).T\n",
        "y=data['petal.width']\n",
        "model.fit(X,y)\n",
        "print('Intercept cua mo hinh :',model.intercept_)\n",
        "print('Coeffient cua mo hinh:',model.coef_)\n",
        "print('Do chinh xac cua mo hinh:',model.score(X,y))"
      ],
      "metadata": {
        "colab": {
          "base_uri": "https://localhost:8080/"
        },
        "id": "68Zcn8LGNqZI",
        "outputId": "b5968519-cb16-4257-8276-f54866f7943e"
      },
      "execution_count": 33,
      "outputs": [
        {
          "output_type": "stream",
          "name": "stdout",
          "text": [
            "Intercept cua mo hinh : -7.57726671368132\n",
            "Coeffient cua mo hinh: [ 1.27797841e+01  1.72183988e+00 -9.33601265e+00 -3.77047240e+00\n",
            "  8.55224477e+00  2.52057527e+00 -1.01278872e+01  8.07804694e+00\n",
            " -3.53692362e+00  9.88455260e-01 -1.84343252e-01  2.29489478e-02\n",
            " -1.83672910e-03  8.56480003e-05 -1.77101694e-06]\n",
            "Do chinh xac cua mo hinh: 0.9443373995330098\n"
          ]
        }
      ]
    },
    {
      "cell_type": "code",
      "source": [
        "model = linear_model.LinearRegression()\n",
        "X= pd.DataFrame([data['petal.length'],data['petal.length']**2,data['petal.length']**3,data['petal.length']**4,data['petal.length']**5,\n",
        "                 data['petal.length']**6,data['petal.length']**7,data['petal.length']**8,data['petal.length']**9,data['petal.length']**10,\n",
        "                 data['petal.length']**11,data['petal.length']**12,data['petal.length']**13,data['petal.length']**14,data['petal.length']**15,\n",
        "                 data['petal.length']**16]).T\n",
        "y=data['petal.width']\n",
        "model.fit(X,y)\n",
        "print('Intercept cua mo hinh :',model.intercept_)\n",
        "print('Coeffient cua mo hinh:',model.coef_)\n",
        "print('Do chinh xac cua mo hinh:',model.score(X,y))"
      ],
      "metadata": {
        "colab": {
          "base_uri": "https://localhost:8080/"
        },
        "id": "h7DN3_G5NvDv",
        "outputId": "af0ef22c-3256-4f49-f7f6-f809ba4dcd69"
      },
      "execution_count": 34,
      "outputs": [
        {
          "output_type": "stream",
          "name": "stdout",
          "text": [
            "Intercept cua mo hinh : -4.184479571024577\n",
            "Coeffient cua mo hinh: [ 4.78732722e+00  3.02591148e+00 -1.69807527e+00 -3.83966748e+00\n",
            " -3.77282467e-01  3.78913916e+00  4.59421728e-01 -4.22060927e+00\n",
            "  3.61550913e+00 -1.62765021e+00  4.60448872e-01 -8.62655780e-02\n",
            "  1.07442652e-02 -8.58371903e-04  3.99052647e-05 -8.22156243e-07]\n",
            "Do chinh xac cua mo hinh: 0.9448495072980977\n"
          ]
        }
      ]
    },
    {
      "cell_type": "code",
      "source": [
        "model = linear_model.LinearRegression()\n",
        "X= pd.DataFrame([data['petal.length'],data['petal.length']**2,data['petal.length']**3,data['petal.length']**4,data['petal.length']**5,\n",
        "                 data['petal.length']**6,data['petal.length']**7,data['petal.length']**8,data['petal.length']**9,data['petal.length']**10,\n",
        "                 data['petal.length']**11,data['petal.length']**12,data['petal.length']**13,data['petal.length']**14,data['petal.length']**15,\n",
        "                 data['petal.length']**16,data['petal.length']**17]).T\n",
        "y=data['petal.width']\n",
        "model.fit(X,y)\n",
        "print('Intercept cua mo hinh :',model.intercept_)\n",
        "print('Coeffient cua mo hinh:',model.coef_)\n",
        "print('Do chinh xac cua mo hinh:',model.score(X,y))"
      ],
      "metadata": {
        "colab": {
          "base_uri": "https://localhost:8080/"
        },
        "id": "hH_X5_ZEN2Kw",
        "outputId": "536729dd-26ab-49b0-8ef4-02ab218a8b3d"
      },
      "execution_count": 35,
      "outputs": [
        {
          "output_type": "stream",
          "name": "stdout",
          "text": [
            "Intercept cua mo hinh : -1.4113816226205476\n",
            "Coeffient cua mo hinh: [ 1.09251010e+00  1.13576980e+00  3.39613002e-01 -7.52081857e-01\n",
            " -9.98982500e-01  8.03442761e-02  1.10938405e+00  4.27786642e-02\n",
            " -1.23551999e+00  1.10350308e+00 -5.04805031e-01  1.43765900e-01\n",
            " -2.69878871e-02  3.35884602e-03 -2.67711977e-04  1.24044420e-05\n",
            " -2.54569329e-07]\n",
            "Do chinh xac cua mo hinh: 0.9452698572673082\n"
          ]
        }
      ]
    },
    {
      "cell_type": "code",
      "source": [
        "model = linear_model.LinearRegression()\n",
        "X= pd.DataFrame([data['petal.length'],data['petal.length']**2,data['petal.length']**3,data['petal.length']**4,data['petal.length']**5,\n",
        "                 data['petal.length']**6,data['petal.length']**7,data['petal.length']**8,data['petal.length']**9,data['petal.length']**10,\n",
        "                 data['petal.length']**11,data['petal.length']**12,data['petal.length']**13,data['petal.length']**14,data['petal.length']**15,\n",
        "                 data['petal.length']**16,data['petal.length']**17,data['petal.length']**18]).T\n",
        "y=data['petal.width']\n",
        "model.fit(X,y)\n",
        "print('Intercept cua mo hinh :',model.intercept_)\n",
        "print('Coeffient cua mo hinh:',model.coef_)\n",
        "print('Do chinh xac cua mo hinh:',model.score(X,y))"
      ],
      "metadata": {
        "colab": {
          "base_uri": "https://localhost:8080/"
        },
        "id": "mWBQ4NUIN8IL",
        "outputId": "809acc0a-9889-4b06-d0d7-e262532aae7c"
      },
      "execution_count": 36,
      "outputs": [
        {
          "output_type": "stream",
          "name": "stdout",
          "text": [
            "Intercept cua mo hinh : 0.3352052171643205\n",
            "Coeffient cua mo hinh: [-1.48202157e-02 -2.91914196e-02 -4.02921399e-02 -3.83250709e-02\n",
            " -1.79254818e-02  1.64992088e-02  4.05922996e-02  2.10509363e-02\n",
            " -3.16240775e-02 -2.72009141e-02  4.75185857e-02 -2.79815651e-02\n",
            "  9.28065463e-03 -1.93832023e-03  2.61437016e-04 -2.22003398e-05\n",
            "  1.08295611e-06 -2.31943596e-08]\n",
            "Do chinh xac cua mo hinh: 0.9449994108607094\n"
          ]
        }
      ]
    },
    {
      "cell_type": "code",
      "source": [
        "model = linear_model.LinearRegression()\n",
        "X= pd.DataFrame([data['petal.length'],data['petal.length']**2,data['petal.length']**3,data['petal.length']**4,data['petal.length']**5,\n",
        "                 data['petal.length']**6,data['petal.length']**7,data['petal.length']**8,data['petal.length']**9,data['petal.length']**10,\n",
        "                 data['petal.length']**11,data['petal.length']**12,data['petal.length']**13,data['petal.length']**14,data['petal.length']**15,\n",
        "                 data['petal.length']**16,data['petal.length']**17,data['petal.length']**18,data['petal.length']**19]).T\n",
        "y=data['petal.width']\n",
        "model.fit(X,y)\n",
        "print('Intercept cua mo hinh :',model.intercept_)\n",
        "print('Coeffient cua mo hinh:',model.coef_)\n",
        "print('Do chinh xac cua mo hinh:',model.score(X,y))"
      ],
      "metadata": {
        "colab": {
          "base_uri": "https://localhost:8080/"
        },
        "id": "yiWatZ_qOAmW",
        "outputId": "c357af51-b675-4176-f387-9b6bca494f5e"
      },
      "execution_count": 37,
      "outputs": [
        {
          "output_type": "stream",
          "name": "stdout",
          "text": [
            "Intercept cua mo hinh : 0.22263000781399533\n",
            "Coeffient cua mo hinh: [-1.42846761e-03 -4.67292636e-03 -5.31889594e-03 -6.67109841e-03\n",
            " -5.98201655e-03 -1.97368091e-03  4.71593300e-03  9.27309047e-03\n",
            "  4.50662969e-03 -7.60947431e-03 -6.50291326e-03  1.15778868e-02\n",
            " -6.84744124e-03  2.27102654e-03 -4.73240646e-04  6.36048884e-05\n",
            " -5.37828783e-06  2.61153393e-07 -5.56670339e-09]\n",
            "Do chinh xac cua mo hinh: 0.9451114651632766\n"
          ]
        }
      ]
    },
    {
      "cell_type": "code",
      "source": [
        "model = linear_model.LinearRegression()\n",
        "X= pd.DataFrame([data['petal.length'],data['petal.length']**2,data['petal.length']**3,data['petal.length']**4,data['petal.length']**5,\n",
        "                 data['petal.length']**6,data['petal.length']**7,data['petal.length']**8,data['petal.length']**9,data['petal.length']**10,\n",
        "                 data['petal.length']**11,data['petal.length']**12,data['petal.length']**13,data['petal.length']**14,data['petal.length']**15,\n",
        "                 data['petal.length']**16,data['petal.length']**17,data['petal.length']**18,data['petal.length']**19,data['petal.length']**20]).T\n",
        "y=data['petal.width']\n",
        "model.fit(X,y)\n",
        "print('Intercept cua mo hinh :',model.intercept_)\n",
        "print('Coeffient cua mo hinh:',model.coef_)\n",
        "print('Do chinh xac cua mo hinh:',model.score(X,y))"
      ],
      "metadata": {
        "colab": {
          "base_uri": "https://localhost:8080/"
        },
        "id": "VXK1wQt_OFRP",
        "outputId": "968958bb-3e4e-4b11-e972-54f333778759"
      },
      "execution_count": 38,
      "outputs": [
        {
          "output_type": "stream",
          "name": "stdout",
          "text": [
            "Intercept cua mo hinh : 0.1762295619513221\n",
            "Coeffient cua mo hinh: [ 1.13614175e-04  5.58401059e-04  6.08764294e-04  1.02640896e-03\n",
            "  1.51688868e-03  1.92900981e-03  1.98468930e-03  1.38964750e-03\n",
            "  1.80355622e-04 -8.79063744e-04 -6.75816895e-04  4.67782001e-04\n",
            "  3.17691142e-04 -3.85448765e-04  1.65308629e-04 -3.97866938e-05\n",
            "  5.88066275e-06 -5.32432804e-07  2.72301721e-08 -6.04656403e-10]\n",
            "Do chinh xac cua mo hinh: 0.9449845402891706\n"
          ]
        }
      ]
    },
    {
      "cell_type": "code",
      "source": [
        "model = linear_model.LinearRegression()\n",
        "X= pd.DataFrame([data['petal.length'],data['petal.length']**2,data['petal.length']**3,data['petal.length']**4,data['petal.length']**5,\n",
        "                 data['petal.length']**6,data['petal.length']**7,data['petal.length']**8,data['petal.length']**9,data['petal.length']**10,\n",
        "                 data['petal.length']**11,data['petal.length']**12,data['petal.length']**13,data['petal.length']**14,data['petal.length']**15,\n",
        "                 data['petal.length']**16,data['petal.length']**17,data['petal.length']**18,data['petal.length']**19,data['petal.length']**20,data['petal.length']**21]).T\n",
        "y=data['petal.width']\n",
        "model.fit(X,y)\n",
        "print('Intercept cua mo hinh :',model.intercept_)\n",
        "print('Coeffient cua mo hinh:',model.coef_)\n",
        "print('Do chinh xac cua mo hinh:',model.score(X,y))"
      ],
      "metadata": {
        "colab": {
          "base_uri": "https://localhost:8080/"
        },
        "id": "MuFiRu7sOKPH",
        "outputId": "bca408b1-8397-4f9c-8d61-33dd1a16a617"
      },
      "execution_count": 39,
      "outputs": [
        {
          "output_type": "stream",
          "name": "stdout",
          "text": [
            "Intercept cua mo hinh : 0.22347109687266276\n",
            "Coeffient cua mo hinh: [ 1.40539362e-06  7.10527211e-08  1.21781065e-05  2.79120801e-05\n",
            "  5.85283666e-05  1.12727875e-04  1.95526464e-04  2.93183843e-04\n",
            "  3.50046936e-04  2.66249916e-04 -1.14408163e-05 -2.81448251e-04\n",
            " -1.02356116e-04  3.21120975e-04 -2.08854684e-04  7.19031416e-05\n",
            " -1.52301599e-05  2.05987611e-06 -1.74330554e-07  8.44648834e-09\n",
            " -1.79337415e-10]\n",
            "Do chinh xac cua mo hinh: 0.9443937128368011\n"
          ]
        }
      ]
    },
    {
      "cell_type": "code",
      "source": [
        "# nhận thấy độ chính xác cao nhất ở bậc 17 sau đó độ chính xác giảm dần ==> chọn bậc 17"
      ],
      "metadata": {
        "id": "cuInB0kKOOV0"
      },
      "execution_count": 40,
      "outputs": []
    },
    {
      "cell_type": "code",
      "source": [
        "model = linear_model.LinearRegression()\n",
        "X= pd.DataFrame([data['petal.length'],data['petal.length']**2,data['petal.length']**3,data['petal.length']**4,data['petal.length']**5,\n",
        "                 data['petal.length']**6,data['petal.length']**7,data['petal.length']**8,data['petal.length']**9,data['petal.length']**10,\n",
        "                 data['petal.length']**11,data['petal.length']**12,data['petal.length']**13,data['petal.length']**14,data['petal.length']**15,\n",
        "                 data['petal.length']**16,data['petal.length']**17]).T\n",
        "y=data['petal.width']\n",
        "model.fit(X,y)\n",
        "print('Intercept cua mo hinh :',model.intercept_)\n",
        "print('Coeffient cua mo hinh:',model.coef_)\n",
        "print('Do chinh xac cua mo hinh:',model.score(X,y))\n",
        "\n",
        "range=np.arange(0.5,7.5,0.1)\n",
        "X_range=pd.DataFrame([range,range**2,range**3,range**4,range**5,range**6,range**7,\n",
        "                      range**8,range**9,range**10,range**11,range**12,range**13,\n",
        "                      range**14,range**15,range**16,range**17]).T\n",
        "y_pred=model.predict(X=X_range)\n",
        "data.plot(kind='scatter',x='petal.length', y = 'petal.width' , figsize=(9,9),\n",
        "          color= 'black')\n",
        "plt.plot(range, y_pred, color='blue')"
      ],
      "metadata": {
        "colab": {
          "base_uri": "https://localhost:8080/",
          "height": 790
        },
        "id": "6lxRYD5uQEli",
        "outputId": "376a6c09-070c-498a-daa6-2de1025a8b89"
      },
      "execution_count": 44,
      "outputs": [
        {
          "output_type": "stream",
          "name": "stdout",
          "text": [
            "Intercept cua mo hinh : -1.4113816226205476\n",
            "Coeffient cua mo hinh: [ 1.09251010e+00  1.13576980e+00  3.39613002e-01 -7.52081857e-01\n",
            " -9.98982500e-01  8.03442761e-02  1.10938405e+00  4.27786642e-02\n",
            " -1.23551999e+00  1.10350308e+00 -5.04805031e-01  1.43765900e-01\n",
            " -2.69878871e-02  3.35884602e-03 -2.67711977e-04  1.24044420e-05\n",
            " -2.54569329e-07]\n",
            "Do chinh xac cua mo hinh: 0.9452698572673082\n"
          ]
        },
        {
          "output_type": "stream",
          "name": "stderr",
          "text": [
            "/usr/local/lib/python3.9/dist-packages/sklearn/base.py:439: UserWarning: X does not have valid feature names, but LinearRegression was fitted with feature names\n",
            "  warnings.warn(\n",
            "/usr/local/lib/python3.9/dist-packages/pandas/plotting/_matplotlib/core.py:1114: UserWarning: No data for colormapping provided via 'c'. Parameters 'cmap' will be ignored\n",
            "  scatter = ax.scatter(\n"
          ]
        },
        {
          "output_type": "execute_result",
          "data": {
            "text/plain": [
              "[<matplotlib.lines.Line2D at 0x7f54e6c0c9d0>]"
            ]
          },
          "metadata": {},
          "execution_count": 44
        },
        {
          "output_type": "display_data",
          "data": {
            "text/plain": [
              "<Figure size 648x648 with 1 Axes>"
            ],
            "image/png": "[encoded data removed]"
          },
          "metadata": {
            "needs_background": "light"
          }
        }
      ]
    },
    {
      "cell_type": "code",
      "source": [
        "model = linear_model.LinearRegression()\n",
        "model.fit(X=data.loc[:,['petal.length','sepal.length']],y=data['petal.width'])\n",
        "print('Intercept cua mo hinh :',model.intercept_)\n",
        "print('Coeffient cua mo hinh:',model.coef_)\n",
        "print('Do chinh xac cua mo hinh:',model.score(X=data.loc[:,['petal.length','sepal.length']],y=data['petal.width']))"
      ],
      "metadata": {
        "colab": {
          "base_uri": "https://localhost:8080/"
        },
        "id": "CpAYz5EMQt-M",
        "outputId": "a31715b4-f6bf-4527-dcb6-d1193ef9e50a"
      },
      "execution_count": 45,
      "outputs": [
        {
          "output_type": "stream",
          "name": "stdout",
          "text": [
            "Intercept cua mo hinh : -0.00899597269816943\n",
            "Coeffient cua mo hinh: [ 0.44937611 -0.08221782]\n",
            "Do chinh xac cua mo hinh: 0.9290248640257687\n"
          ]
        }
      ]
    },
    {
      "cell_type": "code",
      "source": [
        "model = linear_model.LinearRegression()\n",
        "model.fit(X=data.loc[:,['petal.length','sepal.length','sepal.width']],y=data['petal.width'])\n",
        "print('Intercept cua mo hinh :',model.intercept_)\n",
        "print('Coeffient cua mo hinh:',model.coef_)\n",
        "print('Do chinh xac cua mo hinh:',model.score(X=data.loc[:,['petal.length','sepal.length','sepal.width']],y=data['petal.width']))"
      ],
      "metadata": {
        "colab": {
          "base_uri": "https://localhost:8080/"
        },
        "id": "4G3JToT7RdCw",
        "outputId": "e7a827d0-e939-4cc7-ae62-8040d63d78d2"
      },
      "execution_count": 46,
      "outputs": [
        {
          "output_type": "stream",
          "name": "stdout",
          "text": [
            "Intercept cua mo hinh : -0.24030738911225824\n",
            "Coeffient cua mo hinh: [ 0.52408311 -0.20726607  0.22282854]\n",
            "Do chinh xac cua mo hinh: 0.9378502736046809\n"
          ]
        }
      ]
    },
    {
      "cell_type": "code",
      "source": [
        "#==> chọn hệ bậc 17 và 3 biến"
      ],
      "metadata": {
        "id": "IIB5DDB4Rqh9"
      },
      "execution_count": null,
      "outputs": []
    }
  ]
}